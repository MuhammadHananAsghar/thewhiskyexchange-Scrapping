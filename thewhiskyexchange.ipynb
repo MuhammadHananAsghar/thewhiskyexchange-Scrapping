{
 "cells": [
  {
   "cell_type": "code",
   "execution_count": 2,
   "metadata": {},
   "outputs": [],
   "source": [
    "import requests\n",
    "from bs4 import BeautifulSoup\n",
    "from fake_useragent import UserAgent"
   ]
  },
  {
   "cell_type": "code",
   "execution_count": 40,
   "metadata": {},
   "outputs": [],
   "source": [
    "whisky = []\n",
    "for idx in range(1,3):\n",
    "    url = f\"https://www.thewhiskyexchange.com/c/35/japanese-whisky?pg={idx}\"\n",
    "    html = requests.get(url,headers=header).content\n",
    "    soup = BeautifulSoup(html,\"lxml\")\n",
    "    main_data = soup.find_all(\"div\",class_=\"item\")\n",
    "    for prod in main_data:\n",
    "        try:\n",
    "            product_url = BASE_URL+prod.find(\"a\").get(\"href\")\n",
    "            html = requests.get(product_url,headers=header).content\n",
    "            soup = BeautifulSoup(html,\"lxml\")\n",
    "            whisky_name = soup.find_all(\"h1\",class_=\"product-main__name\")[0].text.strip()\n",
    "            whisky_price = soup.find_all(\"p\",class_=\"product-action__price\")[0].text.strip()\n",
    "            whisky_rating = soup.find_all(\"span\",class_=\"review-overview__rating\")[0].text.strip()\n",
    "            whisky_quantity = soup.find_all(\"p\",class_=\"product-main__data\")[0].text.strip()\n",
    "            whisky_data = {\n",
    "                \"Name\":whisky_name,\n",
    "                \"Price\":whisky_price,\n",
    "                \"Rating\":whisky_rating,\n",
    "                \"Quantity\":whisky_quantity\n",
    "            }\n",
    "            whisky.append(whisky_data)\n",
    "        except:\n",
    "            pass"
   ]
  },
  {
   "cell_type": "code",
   "execution_count": null,
   "metadata": {},
   "outputs": [],
   "source": [
    "with open(\"thewhiskyexchange.csv\",\"w\") as file:\n",
    "    for wy in whisky:\n",
    "        data = wy['Name']+\",\"+wy['Price']+\",\"+wy['Rating']+\",\"+wy['Quantity']\n",
    "        file.write(data)"
   ]
  }
 ],
 "metadata": {
  "kernelspec": {
   "display_name": "Python 3",
   "language": "python",
   "name": "python3"
  },
  "language_info": {
   "codemirror_mode": {
    "name": "ipython",
    "version": 3
   },
   "file_extension": ".py",
   "mimetype": "text/x-python",
   "name": "python",
   "nbconvert_exporter": "python",
   "pygments_lexer": "ipython3",
   "version": "3.8.2"
  }
 },
 "nbformat": 4,
 "nbformat_minor": 4
}
